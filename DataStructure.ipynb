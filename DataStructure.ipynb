{
 "cells": [
  {
   "cell_type": "code",
   "execution_count": 4,
   "metadata": {},
   "outputs": [
    {
     "name": "stdout",
     "output_type": "stream",
     "text": [
      "Enter the name you want to search: ashok\n",
      "Found it\n"
     ]
    }
   ],
   "source": [
    "#Linear Search \n",
    "\n",
    "def linearSearch(myItem,myList):\n",
    "    found=False\n",
    "    position=0\n",
    "    while position < len(myList) and not found:\n",
    "        if myList[position] == myItem:\n",
    "            found = True\n",
    "        position = position + 1\n",
    "    return found\n",
    "\n",
    "if __name__==\"__main__\":\n",
    "    members=[\"ashok\",\"kumar\",\"sriram\",\"darris\"]\n",
    "    myItem=input(\"Enter the name you want to search: \")\n",
    "    isitFound=linearSearch(myItem,members)\n",
    "    if isitFound:\n",
    "        print (\"Found it\")\n",
    "    else:\n",
    "        print (\"Nope\")\n",
    "        "
   ]
  },
  {
   "cell_type": "code",
   "execution_count": 3,
   "metadata": {},
   "outputs": [
    {
     "name": "stdout",
     "output_type": "stream",
     "text": [
      "What is your number : 5\n",
      "Number in list\n"
     ]
    }
   ],
   "source": [
    "#Binary Search \n",
    "\n",
    "def BinarySearch(myItem,myList):\n",
    "    found=False\n",
    "    bottom=0\n",
    "    top=len(myList)-1\n",
    "    \n",
    "    while bottom <= top and not found:\n",
    "        middle=(bottom+top)//2\n",
    "        if myList[middle] == myItem:\n",
    "            found=True\n",
    "        elif myList[middle] < myItem:\n",
    "            bottom=middle+1\n",
    "        else:\n",
    "            top=middle-1\n",
    "        return found\n",
    "            \n",
    "if __name__==\"__main__\":\n",
    "    numberList=[2,3,5,6,7]\n",
    "    item=int(input(\"What is your number : \"))\n",
    "    isitFound=BinarySearch(item,numberList)\n",
    "    if isitFound:\n",
    "        print(\"Number in list\")\n",
    "    else:\n",
    "        print(\"Number not in list\")"
   ]
  },
  {
   "cell_type": "code",
   "execution_count": 14,
   "metadata": {},
   "outputs": [
    {
     "name": "stdout",
     "output_type": "stream",
     "text": [
      "[7, 5, 9, 8]\n",
      "[16, 4, 6, 12, 9, 19, 0, 10, 3, 11, 17, 8, 5, 2, 15, 7, 18, 14, 1, 13]\n"
     ]
    }
   ],
   "source": [
    "#Bubble Sort wrong Method for larger set\n",
    "\n",
    "def BubbleSort(myList):\n",
    "    #position=0\n",
    "    position=1\n",
    "    while position <= len(myList):\n",
    "        if myList[position] > myList[position+1]:\n",
    "            temp=myList[position]\n",
    "            myList[position]=myList[position+1]\n",
    "            myList[position+1]=temp\n",
    "            position+=1\n",
    "        return myList\n",
    "    \n",
    "A=[7,5,9,8]\n",
    "B=[16, 6, 4, 12, 9, 19, 0, 10, 3, 11, 17, 8, 5, 2, 15, 7, 18, 14, 1, 13]\n",
    "BubbleSort(A)\n",
    "print(A)\n",
    "BubbleSort(B)\n",
    "print(B)\n"
   ]
  },
  {
   "cell_type": "code",
   "execution_count": 7,
   "metadata": {},
   "outputs": [
    {
     "name": "stdout",
     "output_type": "stream",
     "text": [
      "Sorting list :  [5, 7, 8, 9]\n",
      "Sorting list reverse order :  [19, 18, 17, 16, 15, 14, 13, 12, 11, 10, 9, 8, 7, 6, 5, 4, 3, 2, 1, 0]\n"
     ]
    }
   ],
   "source": [
    "#Bubble Sort \n",
    "#Adding Reverse Bubble Sort\n",
    "\n",
    "def BubbleSorts(myList,reverse=False):\n",
    "    for i in range(len(myList)-1, 0 , -1):\n",
    "        for j in range(i):\n",
    "            if myList[j] > myList[j+1]:\n",
    "                temp=myList[j]\n",
    "                myList[j] = myList[j+1]\n",
    "                myList[j+1]=temp\n",
    "    if reverse == True:\n",
    "        Temp=myList\n",
    "        myList = [ x for x in range(len(Temp)-1, -1 , -1) ]\n",
    "    return myList\n",
    "            \n",
    "A=[7,5,9,8]\n",
    "B=[16, 6, 4, 12, 9, 19, 0, 10, 3, 11, 17, 8, 5, 2, 15, 7, 18, 14, 1, 13]\n",
    "BubbleSorts(A)\n",
    "B=BubbleSorts(B, reverse=True)\n",
    "print(\"Sorting list : \", A)\n",
    "print(\"Sorting list reverse order : \", B)"
   ]
  },
  {
   "cell_type": "code",
   "execution_count": 11,
   "metadata": {},
   "outputs": [
    {
     "name": "stdout",
     "output_type": "stream",
     "text": [
      "Factorial for \"5\" is 120\n",
      "None\n"
     ]
    }
   ],
   "source": [
    "#Factorial of number.\n",
    "\n",
    "def Factorial(n):\n",
    "    fact=1\n",
    "    if n < 0:\n",
    "        print(\"Sorry cannot get the factorial of negative integer\")\n",
    "    elif n== 0:\n",
    "        print(\"Factorial for \\\"0\\\" is 1\")\n",
    "    else:\n",
    "        for i in range(1,n+1):\n",
    "            fact=fact*i\n",
    "        print(\"Factorial for \\\"%s\\\" is %s\" %(n,fact))   \n",
    "    #return fact\n",
    "    \n",
    "print(Factorial(5))"
   ]
  },
  {
   "cell_type": "code",
   "execution_count": 2,
   "metadata": {},
   "outputs": [
    {
     "name": "stdout",
     "output_type": "stream",
     "text": [
      "1 1 2 3 5 8 13 "
     ]
    }
   ],
   "source": [
    "#Fibonacci Series\n",
    "\n",
    "def Fibonacci(m):\n",
    "    a,b=1,1\n",
    "    for  i in range(0,m-1):\n",
    "        a,b=b,a+b\n",
    "    return a\n",
    "#print(Fibonacci(5))\n",
    "\n",
    "for j in range(1,8):\n",
    "    print(Fibonacci(j),end=' ')\n",
    "    "
   ]
  },
  {
   "cell_type": "code",
   "execution_count": 19,
   "metadata": {},
   "outputs": [
    {
     "name": "stdout",
     "output_type": "stream",
     "text": [
      "The String  is not palindrome!\n",
      "Given Value 154 is not a Palindrome!\n"
     ]
    }
   ],
   "source": [
    "#Check whether it is palindrome or not.\n",
    "def Palindrome(P):\n",
    "    def PalindromeByInt(PBi):\n",
    "        temp=PBi\n",
    "        remainder=0\n",
    "        while (PBi>0):\n",
    "            digit=PBi%10\n",
    "            remainder=remainder*10+digit\n",
    "            PBi=PBi//10\n",
    "        if temp == remainder:\n",
    "            print(\"The number is palindrome!\")\n",
    "        else:\n",
    "            print (\"The number is not palindrome!\")\n",
    "    def PalindromeByStr(PBs):\n",
    "        temp=PBs[::-1]\n",
    "        if PBs == temp:\n",
    "            print(\"The String is palindrome!\")\n",
    "        else:\n",
    "            print (\"The String  is not palindrome!\")\n",
    "            \n",
    "    if type(P) == int:\n",
    "        PalindromeByInt(P)\n",
    "    elif type(P) == str:\n",
    "        PalindromeByStr(P)\n",
    "    \n",
    "    \n",
    "            \n",
    "Palindrome('154')\n",
    "\n",
    "\n",
    "#Simple way for palindrome of the number\n",
    "\n",
    "def PalindromeOfNS(PN):\n",
    "    if type(PN) == int:\n",
    "        if PN==int(str(PN)[::-1]):\n",
    "            print (\"Number %s is a Palindrome!\" %(PN) )\n",
    "        else:\n",
    "            print (\"Given Value %s is not a Palindrome!\" %(PN))\n",
    "        \n",
    "    elif (type(PN) is str): \n",
    "        if (PN==PN[::-1]):\n",
    "            print (\"String %s is a palindrome!\" %(PN))\n",
    "        else:\n",
    "            print (\"Given Value %s is not a Palindrome!\" %(PN))\n",
    "    \n",
    "        \n",
    "PalindromeOfNS(154)\n",
    "        "
   ]
  },
  {
   "cell_type": "code",
   "execution_count": 6,
   "metadata": {},
   "outputs": [
    {
     "name": "stdout",
     "output_type": "stream",
     "text": [
      "Check 153 is Amstrong\n",
      "153 is an Armstrong number\n",
      "Check 154 is Amstrong\n",
      "154 is an Not Armstrong number\n"
     ]
    }
   ],
   "source": [
    "# Amstrong Number\n",
    "\n",
    "# 153 = 1*1*1 + 5*5*5 + 3*3*3  // 153 is an Armstrong number.\n",
    "\n",
    "def AmstrongNumber(num):\n",
    "    Num=num\n",
    "    temp=Num\n",
    "    Len=len(str(num)\n",
    "    sum=0\n",
    "    while temp > 0:\n",
    "        digit=temp%10\n",
    "        # 153%10 --> 3 , 15%10 --> 5 , 1%10 --> 1\n",
    "        sum+=digit**Len\n",
    "        #3**3 --> 9 + 5**5 --> 9 + 125 + 1**3 = 9+125+9--> 153 \n",
    "        temp//=10\n",
    "        '''>>> temp=153;temp//=10 ; temp\n",
    "                15\n",
    "           >>> temp//=10 ; temp\n",
    "                1'''\n",
    "    if Num == sum:\n",
    "        print(Num,\"is an Armstrong number\")\n",
    "    else:\n",
    "        print(Num,\"is an Not Armstrong number\")\n",
    "    \n",
    "    \n",
    "print(\"Check 153 is Amstrong\")\n",
    "AmstrongNumber(153)\n",
    "print(\"Check 154 is Amstrong\")\n",
    "AmstrongNumber(154)"
   ]
  },
  {
   "cell_type": "code",
   "execution_count": 5,
   "metadata": {},
   "outputs": [
    {
     "name": "stdout",
     "output_type": "stream",
     "text": [
      "List is : [(2, 4), (2, 5), (3, 5), (1, 5)]\n",
      "Frequency of number :  {2: 5, 3: 5, 1: 5}\n"
     ]
    }
   ],
   "source": [
    "def frequencyListTuple(myList):\n",
    "    DD={}\n",
    "    for i in myList:\n",
    "        temp=0\n",
    "        if i[1] > temp:\n",
    "            DD[i[0]]=i[1]\n",
    "            temp=i[1]\n",
    "    return DD\n",
    "\n",
    "myList = [(2, 4), (2, 5), (3, 5), (1, 5)]\n",
    "\n",
    "print(\"List is : {}\" .format(myList))\n",
    "\n",
    "print(\"Frequency of number :  %s\" %(frequencyListTuple(myList)))\n"
   ]
  },
  {
   "cell_type": "code",
   "execution_count": null,
   "metadata": {
    "collapsed": true
   },
   "outputs": [],
   "source": []
  }
 ],
 "metadata": {
  "kernelspec": {
   "display_name": "Python 3",
   "language": "python",
   "name": "python3"
  },
  "language_info": {
   "codemirror_mode": {
    "name": "ipython",
    "version": 3
   },
   "file_extension": ".py",
   "mimetype": "text/x-python",
   "name": "python",
   "nbconvert_exporter": "python",
   "pygments_lexer": "ipython3",
   "version": "3.6.3"
  }
 },
 "nbformat": 4,
 "nbformat_minor": 2
}
