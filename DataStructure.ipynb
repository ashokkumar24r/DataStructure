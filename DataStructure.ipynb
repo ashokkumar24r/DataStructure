{
 "cells": [
  {
   "cell_type": "code",
   "execution_count": 4,
   "metadata": {},
   "outputs": [
    {
     "name": "stdout",
     "output_type": "stream",
     "text": [
      "Enter the name you want to search: ashok\n",
      "Found it\n"
     ]
    }
   ],
   "source": [
    "#Linear Search \n",
    "\n",
    "def linearSearch(myItem,myList):\n",
    "    found=False\n",
    "    position=0\n",
    "    while position < len(myList) and not found:\n",
    "        if myList[position] == myItem:\n",
    "            found = True\n",
    "        position = position + 1\n",
    "    return found\n",
    "\n",
    "if __name__==\"__main__\":\n",
    "    members=[\"ashok\",\"kumar\",\"sriram\",\"darris\"]\n",
    "    myItem=input(\"Enter the name you want to search: \")\n",
    "    isitFound=linearSearch(myItem,members)\n",
    "    if isitFound:\n",
    "        print (\"Found it\")\n",
    "    else:\n",
    "        print (\"Nope\")\n",
    "        "
   ]
  },
  {
   "cell_type": "code",
   "execution_count": 3,
   "metadata": {},
   "outputs": [
    {
     "name": "stdout",
     "output_type": "stream",
     "text": [
      "What is your number : 5\n",
      "Number in list\n"
     ]
    }
   ],
   "source": [
    "#Binary Search \n",
    "\n",
    "def BinarySearch(myItem,myList):\n",
    "    found=False\n",
    "    bottom=0\n",
    "    top=len(myList)-1\n",
    "    \n",
    "    while bottom <= top and not found:\n",
    "        middle=(bottom+top)//2\n",
    "        if myList[middle] == myItem:\n",
    "            found=True\n",
    "        elif myList[middle] < myItem:\n",
    "            bottom=middle+1\n",
    "        else:\n",
    "            top=middle-1\n",
    "        return found\n",
    "            \n",
    "if __name__==\"__main__\":\n",
    "    numberList=[2,3,5,6,7]\n",
    "    item=int(input(\"What is your number : \"))\n",
    "    isitFound=BinarySearch(item,numberList)\n",
    "    if isitFound:\n",
    "        print(\"Number in list\")\n",
    "    else:\n",
    "        print(\"Number not in list\")"
   ]
  },
  {
   "cell_type": "code",
   "execution_count": 14,
   "metadata": {},
   "outputs": [
    {
     "name": "stdout",
     "output_type": "stream",
     "text": [
      "[7, 5, 9, 8]\n",
      "[16, 4, 6, 12, 9, 19, 0, 10, 3, 11, 17, 8, 5, 2, 15, 7, 18, 14, 1, 13]\n"
     ]
    }
   ],
   "source": [
    "#Bubble Sort wrong Method for larger set\n",
    "\n",
    "def BubbleSort(myList):\n",
    "    #position=0\n",
    "    position=1\n",
    "    while position <= len(myList):\n",
    "        if myList[position] > myList[position+1]:\n",
    "            temp=myList[position]\n",
    "            myList[position]=myList[position+1]\n",
    "            myList[position+1]=temp\n",
    "            position+=1\n",
    "        return myList\n",
    "    \n",
    "A=[7,5,9,8]\n",
    "B=[16, 6, 4, 12, 9, 19, 0, 10, 3, 11, 17, 8, 5, 2, 15, 7, 18, 14, 1, 13]\n",
    "BubbleSort(A)\n",
    "print(A)\n",
    "BubbleSort(B)\n",
    "print(B)\n"
   ]
  },
  {
   "cell_type": "code",
   "execution_count": 12,
   "metadata": {},
   "outputs": [
    {
     "name": "stdout",
     "output_type": "stream",
     "text": [
      "[5, 7, 8, 9]\n",
      "[0, 1, 2, 3, 4, 5, 6, 7, 8, 9, 10, 11, 12, 13, 14, 15, 16, 17, 18, 19]\n"
     ]
    }
   ],
   "source": [
    "#Bubble Sort\n",
    "\n",
    "def BubbleSorts(myList):\n",
    "    for i in range(len(myList)-1, 0 , -1):\n",
    "        for j in range(i):\n",
    "            if myList[j] > myList[j+1]:\n",
    "                temp=myList[j]\n",
    "                myList[j] = myList[j+1]\n",
    "                myList[j+1]=temp\n",
    "            \n",
    "A=[7,5,9,8]\n",
    "B=[16, 6, 4, 12, 9, 19, 0, 10, 3, 11, 17, 8, 5, 2, 15, 7, 18, 14, 1, 13]\n",
    "BubbleSorts(A)\n",
    "BubbleSorts(B)\n",
    "print(A)\n",
    "print(B)"
   ]
  },
  {
   "cell_type": "code",
   "execution_count": null,
   "metadata": {
    "collapsed": true
   },
   "outputs": [],
   "source": []
  }
 ],
 "metadata": {
  "kernelspec": {
   "display_name": "Python 3",
   "language": "python",
   "name": "python3"
  },
  "language_info": {
   "codemirror_mode": {
    "name": "ipython",
    "version": 3
   },
   "file_extension": ".py",
   "mimetype": "text/x-python",
   "name": "python",
   "nbconvert_exporter": "python",
   "pygments_lexer": "ipython3",
   "version": "3.6.3"
  }
 },
 "nbformat": 4,
 "nbformat_minor": 2
}
