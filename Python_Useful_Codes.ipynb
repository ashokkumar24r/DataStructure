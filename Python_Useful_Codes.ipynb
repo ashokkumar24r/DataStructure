{
 "cells": [
  {
   "cell_type": "code",
   "execution_count": 3,
   "metadata": {},
   "outputs": [
    {
     "name": "stdout",
     "output_type": "stream",
     "text": [
      "Chennai is one of the biggest cultural, economic and educational centres in South India.\n",
      "Chennai is one of the biggest cultural, economic and educational centres in South India.\n",
      "6\n",
      "6\n",
      "u\n",
      " \n"
     ]
    }
   ],
   "source": [
    "# STRING\n",
    "## center()\n",
    "\n",
    "str=\"Chennai is one of the biggest cultural, economic and educational centres in South India.\"\n",
    "\n",
    "#30 spaces in right side of the string\n",
    "print(str.center(30))\n",
    "# #(hash tag) in right side of the string\n",
    "print(str.center(30,'#'))\n",
    "\n",
    "## count()\n",
    "sub='a'\n",
    "print (str.count(sub, 4, len(str)) )\n",
    "print (str.count(sub) )\n",
    "\n",
    "## isalnum()\n",
    "Str=\"Hello123\"\n",
    "Str.isalnum()\n",
    "\n",
    "## isalpha()\n",
    "Str=\"Hello\"\n",
    "Str.isalpha()\n",
    "\n",
    "##isdigit()\n",
    "Str=\"12345\"\n",
    "Str.isdigit()\n",
    "\n",
    "T=\"this is cool\"\n",
    "T.title()\n",
    "# 'This Is Cool'\n",
    "T.capitalize()\n",
    "# 'This is cool'\n",
    "T.lower()\n",
    "# 'this is cool'\n",
    "T.upper()\n",
    "# 'THIS IS COOL'\n",
    "T='ThiS Is cOOl'\n",
    "T.swapcase()\n",
    "#'tHIs iS CooL'()\n",
    "T.split()\n",
    "# ['ThiS', 'Is', 'cOOl']\n",
    "T.splitlines()\n",
    "# ['ThiS Is cOOl']\n",
    "\n",
    "\n",
    "# max()\n",
    "# Syntax \n",
    "# max(str) \n",
    "# The method max() returns the max character from string str according to ASCII value. in first print statement y is max character, because ASCII code of \"y\" is 121. In second print statement \"s\" is max character, ASCII code of \"s\" is 115. \n",
    "\n",
    "print(max(str))\n",
    "\n",
    "# min()\n",
    "# Syntax \n",
    "# min(str) \n",
    "# The method min() returns the min character from string str according to ASCII value. \n",
    "\n",
    "print(min(str))"
   ]
  },
  {
   "cell_type": "code",
   "execution_count": 18,
   "metadata": {},
   "outputs": [
    {
     "name": "stdout",
     "output_type": "stream",
     "text": [
      "{'name': 'Ashok', 'age': 27, 'sex': 'Male', 'blood_group': 'B+ve'}\n",
      "Ashok\n",
      "No such element\n",
      "{'age': 27, 'sex': 'Male', 'blood_group': 'B+ve'}\n",
      "Copied Dict : {'name': 'Ashok', 'age': 27, 'sex': 'Male', 'blood_group': 'B+ve'}\n",
      "Port dict {'age': 27, 'sex': 'Male', 'blood_group': 'B+ve'}\n",
      "{'age': 27, 'sex': 'Male', 'blood_group': 'B+ve', 'name': 'Ashok', 'ph_num': '8****52'}\n"
     ]
    }
   ],
   "source": [
    "# Dictionary \n",
    "emp_10927={}\n",
    "emp_10927['name'] = 'Ashok'\n",
    "emp_10927['age'] = 27\n",
    "emp_10927['sex']='Male'\n",
    "emp_10927['blood_group'] = 'B+ve'\n",
    "\n",
    "emp_10927\n",
    "\n",
    "print(emp_10927)\n",
    "\n",
    "print(emp_10927.get('name'))\n",
    "print(emp_10927.get('ph_num','No such element'))\n",
    "\n",
    "# copying dict\n",
    "dict_copy1=emp_10927.copy()\n",
    "# porting dict\n",
    "dict_port=emp_10927\n",
    "\n",
    "del emp_10927['name']\n",
    "\n",
    "# print all dict\n",
    "print(emp_10927)\n",
    "print(\"Copied Dict :\", dict_copy1)\n",
    "print(\"Port dict\", dict_port)\n",
    "\n",
    "\n",
    "# has_key()\n",
    "\n",
    "emp_10927.update({'name':'Ashok','ph_num':'8****52'})\n",
    "print(emp_10927)\n",
    "\n",
    "\n"
   ]
  },
  {
   "cell_type": "code",
   "execution_count": null,
   "metadata": {
    "collapsed": true
   },
   "outputs": [],
   "source": [
    "# Exception Handling\n",
    "\n"
   ]
  }
 ],
 "metadata": {
  "kernelspec": {
   "display_name": "Python 3",
   "language": "python",
   "name": "python3"
  },
  "language_info": {
   "codemirror_mode": {
    "name": "ipython",
    "version": 3
   },
   "file_extension": ".py",
   "mimetype": "text/x-python",
   "name": "python",
   "nbconvert_exporter": "python",
   "pygments_lexer": "ipython3",
   "version": "3.6.3"
  }
 },
 "nbformat": 4,
 "nbformat_minor": 2
}
